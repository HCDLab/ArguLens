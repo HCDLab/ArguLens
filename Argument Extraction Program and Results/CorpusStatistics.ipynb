{
 "cells": [
  {
   "cell_type": "code",
   "execution_count": 1,
   "metadata": {},
   "outputs": [],
   "source": [
    "import pandas as pd"
   ]
  },
  {
   "cell_type": "code",
   "execution_count": 2,
   "metadata": {},
   "outputs": [],
   "source": [
    "df = pd.read_csv('Preprocessed.csv')\n",
    "booleanDictionary = {'True': True, 'False': False}\n",
    "df.replace(booleanDictionary, inplace=True)"
   ]
  },
  {
   "cell_type": "code",
   "execution_count": 3,
   "metadata": {},
   "outputs": [
    {
     "data": {
      "text/plain": [
       "(2014, 115)"
      ]
     },
     "metadata": {},
     "output_type": "display_data"
    },
    {
     "data": {
      "text/plain": [
       "False    1233\n",
       "True      781\n",
       "Name: is_non_argumentative, dtype: int64"
      ]
     },
     "metadata": {},
     "output_type": "display_data"
    },
    {
     "data": {
      "text/plain": [
       "False    823\n",
       "True     410\n",
       "Name: is_against, dtype: int64"
      ]
     },
     "metadata": {},
     "output_type": "display_data"
    },
    {
     "data": {
      "text/plain": [
       "2    854\n",
       "1    215\n",
       "3    164\n",
       "Name: argu_part, dtype: int64"
      ]
     },
     "metadata": {},
     "output_type": "display_data"
    }
   ],
   "source": [
    "df_issue_224 = df.loc[df['Document'] == 'issue224_allCommentsText.doc' ]\n",
    "relevant_count_224 = df_issue_224.is_non_argumentative.value_counts()\n",
    "df_relevant_224 = df_issue_224.loc[df_issue_224['is_non_argumentative'] == False]\n",
    "rebuttal_count_224 = df_relevant_224.is_against.value_counts()\n",
    "argu_part_count_224 = df_relevant_224.argu_part.value_counts()\n",
    "\n",
    "display(df_issue_224.shape)\n",
    "display(relevant_count_224)\n",
    "display(rebuttal_count_224)\n",
    "display(argu_part_count_224)"
   ]
  },
  {
   "cell_type": "code",
   "execution_count": 4,
   "metadata": {},
   "outputs": [
    {
     "data": {
      "text/plain": [
       "(1849, 115)"
      ]
     },
     "metadata": {},
     "output_type": "display_data"
    },
    {
     "data": {
      "text/plain": [
       "False    1080\n",
       "True      769\n",
       "Name: is_non_argumentative, dtype: int64"
      ]
     },
     "metadata": {},
     "output_type": "display_data"
    },
    {
     "data": {
      "text/plain": [
       "False    845\n",
       "True     235\n",
       "Name: is_against, dtype: int64"
      ]
     },
     "metadata": {},
     "output_type": "display_data"
    },
    {
     "data": {
      "text/plain": [
       "2    615\n",
       "1    249\n",
       "3    216\n",
       "Name: argu_part, dtype: int64"
      ]
     },
     "metadata": {},
     "output_type": "display_data"
    }
   ],
   "source": [
    "df_issue_396 = df.loc[df['Document'] == 'issue396_allCommentsText.doc' ]\n",
    "relevant_count_396 = df_issue_396.is_non_argumentative.value_counts()\n",
    "df_relevant_396 = df_issue_396.loc[df_issue_396['is_non_argumentative'] == False]\n",
    "rebuttal_count_396 = df_relevant_396.is_against.value_counts()\n",
    "argu_part_count_396 = df_relevant_396.argu_part.value_counts()\n",
    "\n",
    "display(df_issue_396.shape)\n",
    "display(relevant_count_396)\n",
    "display(rebuttal_count_396)\n",
    "display(argu_part_count_396)"
   ]
  },
  {
   "cell_type": "code",
   "execution_count": 5,
   "metadata": {},
   "outputs": [
    {
     "data": {
      "text/plain": [
       "(354, 115)"
      ]
     },
     "metadata": {},
     "output_type": "display_data"
    },
    {
     "data": {
      "text/plain": [
       "True     184\n",
       "False    170\n",
       "Name: is_non_argumentative, dtype: int64"
      ]
     },
     "metadata": {},
     "output_type": "display_data"
    },
    {
     "data": {
      "text/plain": [
       "False    154\n",
       "True      16\n",
       "Name: is_against, dtype: int64"
      ]
     },
     "metadata": {},
     "output_type": "display_data"
    },
    {
     "data": {
      "text/plain": [
       "2    81\n",
       "1    55\n",
       "3    34\n",
       "Name: argu_part, dtype: int64"
      ]
     },
     "metadata": {},
     "output_type": "display_data"
    }
   ],
   "source": [
    "df_issue_4865 = df.loc[df['Document'] == 'issue4865_allCommentsText.doc' ]\n",
    "relevant_count_4865 = df_issue_4865.is_non_argumentative.value_counts()\n",
    "df_relevant_4865 = df_issue_4865.loc[df_issue_4865['is_non_argumentative'] == False]\n",
    "rebuttal_count_4865 = df_relevant_4865.is_against.value_counts()\n",
    "argu_part_count_4865 = df_relevant_4865.argu_part.value_counts()\n",
    "\n",
    "display(df_issue_4865.shape)\n",
    "display(relevant_count_4865)\n",
    "display(rebuttal_count_4865)\n",
    "display(argu_part_count_4865)"
   ]
  },
  {
   "cell_type": "code",
   "execution_count": 6,
   "metadata": {},
   "outputs": [
    {
     "data": {
      "text/plain": [
       "(285, 115)"
      ]
     },
     "metadata": {},
     "output_type": "display_data"
    },
    {
     "data": {
      "text/plain": [
       "False    181\n",
       "True     104\n",
       "Name: is_non_argumentative, dtype: int64"
      ]
     },
     "metadata": {},
     "output_type": "display_data"
    },
    {
     "data": {
      "text/plain": [
       "False    161\n",
       "True      20\n",
       "Name: is_against, dtype: int64"
      ]
     },
     "metadata": {},
     "output_type": "display_data"
    },
    {
     "data": {
      "text/plain": [
       "2    91\n",
       "1    48\n",
       "3    42\n",
       "Name: argu_part, dtype: int64"
      ]
     },
     "metadata": {},
     "output_type": "display_data"
    }
   ],
   "source": [
    "df_issue_9388 = df.loc[df['Document'] == 'issue9388_allCommentsText.doc' ]\n",
    "relevant_count_9388 = df_issue_9388.is_non_argumentative.value_counts()\n",
    "df_relevant_9388 = df_issue_9388.loc[df_issue_9388['is_non_argumentative'] == False]\n",
    "rebuttal_count_9388 = df_relevant_9388.is_against.value_counts()\n",
    "argu_part_count_9388 = df_relevant_9388.argu_part.value_counts()\n",
    "\n",
    "display(df_issue_9388.shape)\n",
    "display(relevant_count_9388)\n",
    "display(rebuttal_count_9388)\n",
    "display(argu_part_count_9388)"
   ]
  },
  {
   "cell_type": "code",
   "execution_count": 7,
   "metadata": {},
   "outputs": [
    {
     "data": {
      "text/plain": [
       "(621, 115)"
      ]
     },
     "metadata": {},
     "output_type": "display_data"
    },
    {
     "data": {
      "text/plain": [
       "False    370\n",
       "True     251\n",
       "Name: is_non_argumentative, dtype: int64"
      ]
     },
     "metadata": {},
     "output_type": "display_data"
    },
    {
     "data": {
      "text/plain": [
       "False    364\n",
       "True       6\n",
       "Name: is_against, dtype: int64"
      ]
     },
     "metadata": {},
     "output_type": "display_data"
    },
    {
     "data": {
      "text/plain": [
       "2    177\n",
       "1    108\n",
       "3     85\n",
       "Name: argu_part, dtype: int64"
      ]
     },
     "metadata": {},
     "output_type": "display_data"
    }
   ],
   "source": [
    "df_issue_14909 = df.loc[df['Document'] == 'issue14909_allCommentsText.doc' ]\n",
    "relevant_count_14909 = df_issue_14909.is_non_argumentative.value_counts()\n",
    "df_relevant_14909 = df_issue_14909.loc[df_issue_14909['is_non_argumentative'] == False]\n",
    "rebuttal_count_14909 = df_relevant_14909.is_against.value_counts()\n",
    "argu_part_count_14909 = df_relevant_14909.argu_part.value_counts()\n",
    "\n",
    "display(df_issue_14909.shape)\n",
    "display(relevant_count_14909)\n",
    "display(rebuttal_count_14909)\n",
    "display(argu_part_count_14909)"
   ]
  },
  {
   "cell_type": "markdown",
   "metadata": {},
   "source": [
    "# all issues"
   ]
  },
  {
   "cell_type": "code",
   "execution_count": 8,
   "metadata": {},
   "outputs": [
    {
     "data": {
      "text/plain": [
       "(5123, 115)"
      ]
     },
     "metadata": {},
     "output_type": "display_data"
    },
    {
     "data": {
      "text/plain": [
       "False    3034\n",
       "True     2089\n",
       "Name: is_non_argumentative, dtype: int64"
      ]
     },
     "metadata": {},
     "output_type": "display_data"
    },
    {
     "data": {
      "text/plain": [
       "False    2347\n",
       "True      687\n",
       "Name: is_against, dtype: int64"
      ]
     },
     "metadata": {},
     "output_type": "display_data"
    },
    {
     "data": {
      "text/plain": [
       "2    1818\n",
       "1     675\n",
       "3     541\n",
       "Name: argu_part, dtype: int64"
      ]
     },
     "metadata": {},
     "output_type": "display_data"
    }
   ],
   "source": [
    "relevant_count = df.is_non_argumentative.value_counts()\n",
    "df_relevant = df.loc[df['is_non_argumentative'] == False]\n",
    "rebuttal_count = df_relevant.is_against.value_counts()\n",
    "argu_part_count = df_relevant.argu_part.value_counts()\n",
    "\n",
    "display(df.shape)\n",
    "display(relevant_count)\n",
    "display(rebuttal_count)\n",
    "display(argu_part_count)"
   ]
  }
 ],
 "metadata": {
  "kernelspec": {
   "display_name": "Python 3",
   "language": "python",
   "name": "python3"
  },
  "language_info": {
   "codemirror_mode": {
    "name": "ipython",
    "version": 3
   },
   "file_extension": ".py",
   "mimetype": "text/x-python",
   "name": "python",
   "nbconvert_exporter": "python",
   "pygments_lexer": "ipython3",
   "version": "3.6.4"
  }
 },
 "nbformat": 4,
 "nbformat_minor": 2
}
