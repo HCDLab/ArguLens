{
 "cells": [
  {
   "cell_type": "code",
   "execution_count": 21,
   "metadata": {},
   "outputs": [],
   "source": [
    "import pandas as pd\n",
    "import re"
   ]
  },
  {
   "cell_type": "code",
   "execution_count": 22,
   "metadata": {},
   "outputs": [],
   "source": [
    "# topic = 'mentioned_topic'\n",
    "topic = 'against_topic'\n",
    "\n",
    "# issue = 'issue224_allCommentsText.doc'\n",
    "# issue = 'issue396_allCommentsText.doc'\n",
    "# issue = 'issue4865_allCommentsText.doc'\n",
    "# issue = 'issue9388_allCommentsText.doc'\n",
    "issue = 'issue14909_allCommentsText.doc'"
   ]
  },
  {
   "cell_type": "code",
   "execution_count": 23,
   "metadata": {},
   "outputs": [],
   "source": [
    "df_all = pd.read_csv('Preprocessed.csv')\n",
    "booleanDictionary = {'True': True, 'False': False}\n",
    "df_all.replace(booleanDictionary, inplace=True)"
   ]
  },
  {
   "cell_type": "code",
   "execution_count": 24,
   "metadata": {},
   "outputs": [],
   "source": [
    "def GetMentionedTopic(row):\n",
    "    argu_part_code = row['argu_part']\n",
    "    code_str = row['Codes']\n",
    "    idx_list = []\n",
    "    code_len = 0\n",
    "    if argu_part_code == 1: # claim\n",
    "        idx_list = [m.start() for m in re.finditer('claim', code_str)]\n",
    "        code_len = len('claim')\n",
    "    elif argu_part_code == 2: # warrant\n",
    "        idx_list = [m.start() for m in re.finditer('warrant', code_str)]\n",
    "        code_len = len('warrant')\n",
    "    elif argu_part_code == 3: # data\n",
    "        idx_list = [m.start() for m in re.finditer('ground', code_str)]\n",
    "        code_len = len('ground')\n",
    "    claim_topic = ''\n",
    "    if len(idx_list) == 0:\n",
    "        claim_topic = '0,'\n",
    "    else:\n",
    "        for idx in idx_list:\n",
    "            end_idx = code_str.find(',', idx+code_len+1)\n",
    "            if end_idx == -1:\n",
    "                claim_topic += code_str[idx+code_len+1: ] + ','\n",
    "            else:\n",
    "                claim_topic += code_str[idx+code_len+1: end_idx] + ','\n",
    "    return claim_topic[:-1]"
   ]
  },
  {
   "cell_type": "code",
   "execution_count": 25,
   "metadata": {},
   "outputs": [],
   "source": [
    "def GetAgainstTopic(row):\n",
    "    is_rebuttal_code = row['is_against']\n",
    "    code_str = row['Codes']\n",
    "    idx_list = []\n",
    "    code_len = 0\n",
    "    if is_rebuttal_code == 1: # rebuttal\n",
    "        idx_list = [m.start() for m in re.finditer('against', code_str)]\n",
    "        code_len = len('against')\n",
    "    rebuttal_topic = ''\n",
    "    if len(idx_list) == 0:\n",
    "        rebuttal_topic = '0,'\n",
    "    else:\n",
    "        for idx in idx_list:\n",
    "            end_idx = code_str.find(',', idx+code_len+1)\n",
    "            if end_idx == -1:\n",
    "                rebuttal_topic += code_str[idx+code_len+1: ] + ','\n",
    "            else:\n",
    "                rebuttal_topic += code_str[idx+code_len+1: end_idx] + ','\n",
    "    return rebuttal_topic[:-1]"
   ]
  },
  {
   "cell_type": "code",
   "execution_count": 26,
   "metadata": {},
   "outputs": [],
   "source": [
    "if topic == 'mentioned_topic':\n",
    "    df_all[topic]  = df_all.apply(GetMentionedTopic, axis=1)\n",
    "elif topic == 'against_topic':\n",
    "    df_all[topic]  = df_all.apply(GetAgainstTopic, axis=1)"
   ]
  },
  {
   "cell_type": "code",
   "execution_count": 27,
   "metadata": {},
   "outputs": [],
   "source": [
    "def splitDataFrameList(df,target_column,separator):\n",
    "    ''' df = dataframe to split,\n",
    "    target_column = the column containing the values to split\n",
    "    separator = the symbol used to perform the split\n",
    "    returns: a dataframe with each entry for the target column separated, with each element moved into a new row. \n",
    "    The values in the other columns are duplicated across the newly divided rows.\n",
    "    '''\n",
    "    row_accumulator = []\n",
    "\n",
    "    def splitListToRows(row, separator):\n",
    "        split_row = row[target_column].split(separator)\n",
    "        for s in split_row:\n",
    "            new_row = row.to_dict()\n",
    "            new_row[target_column] = s\n",
    "            row_accumulator.append(new_row)\n",
    "\n",
    "    df.apply(splitListToRows, axis=1, args = (separator, ))\n",
    "    new_df = pd.DataFrame(row_accumulator)\n",
    "    return new_df"
   ]
  },
  {
   "cell_type": "code",
   "execution_count": 28,
   "metadata": {},
   "outputs": [],
   "source": [
    "df_topic_splited = splitDataFrameList(df_all, topic, ',')"
   ]
  },
  {
   "cell_type": "code",
   "execution_count": 29,
   "metadata": {},
   "outputs": [
    {
     "data": {
      "text/plain": [
       "issue224_allCommentsText.doc      2039\n",
       "issue396_allCommentsText.doc      1856\n",
       "issue14909_allCommentsText.doc     621\n",
       "issue4865_allCommentsText.doc      354\n",
       "issue9388_allCommentsText.doc      285\n",
       "Name: Document, dtype: int64"
      ]
     },
     "execution_count": 29,
     "metadata": {},
     "output_type": "execute_result"
    }
   ],
   "source": [
    "df_topic_splited.Document.value_counts()"
   ]
  },
  {
   "cell_type": "code",
   "execution_count": 30,
   "metadata": {},
   "outputs": [],
   "source": [
    "df_issue_splited = df_topic_splited.loc[df_topic_splited['Document'] == issue].copy()"
   ]
  },
  {
   "cell_type": "code",
   "execution_count": 31,
   "metadata": {},
   "outputs": [],
   "source": [
    "df_issue_splited[topic] = df_issue_splited[topic].astype(int)"
   ]
  },
  {
   "cell_type": "code",
   "execution_count": 32,
   "metadata": {},
   "outputs": [
    {
     "data": {
      "text/plain": [
       "0     615\n",
       "1       2\n",
       "4       3\n",
       "14      1\n",
       "Name: against_topic, dtype: int64"
      ]
     },
     "metadata": {},
     "output_type": "display_data"
    }
   ],
   "source": [
    "pd.options.display.max_rows = 4000\n",
    "\n",
    "display(df_issue_splited[topic].value_counts().sort_index())"
   ]
  },
  {
   "cell_type": "code",
   "execution_count": null,
   "metadata": {},
   "outputs": [],
   "source": []
  }
 ],
 "metadata": {
  "kernelspec": {
   "display_name": "Python 3",
   "language": "python",
   "name": "python3"
  },
  "language_info": {
   "codemirror_mode": {
    "name": "ipython",
    "version": 3
   },
   "file_extension": ".py",
   "mimetype": "text/x-python",
   "name": "python",
   "nbconvert_exporter": "python",
   "pygments_lexer": "ipython3",
   "version": "3.6.4"
  }
 },
 "nbformat": 4,
 "nbformat_minor": 2
}
