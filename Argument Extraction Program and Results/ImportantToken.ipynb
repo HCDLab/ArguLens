{
 "cells": [
  {
   "cell_type": "code",
   "execution_count": 1,
   "metadata": {},
   "outputs": [],
   "source": [
    "import pandas as pd\n",
    "import spacy\n",
    "from string import punctuation\n",
    "from spacy.lang.en import English\n",
    "from nltk.stem import WordNetLemmatizer\n",
    "from nltk.corpus import stopwords"
   ]
  },
  {
   "cell_type": "code",
   "execution_count": 2,
   "metadata": {},
   "outputs": [],
   "source": [
    "df = pd.read_csv('Preprocessed_produced_new.csv')"
   ]
  },
  {
   "cell_type": "code",
   "execution_count": 3,
   "metadata": {},
   "outputs": [],
   "source": [
    "eng = spacy.load('en')\n",
    "\n",
    "stop_words = list(punctuation) + [\"'s\",\"'m\",\"n't\",\"'re\",\"-\",\"'ll\",'...'] + stopwords.words('english')\n",
    "\n",
    "parser = English()\n",
    "lemmatizer = WordNetLemmatizer()"
   ]
  },
  {
   "cell_type": "code",
   "execution_count": 4,
   "metadata": {},
   "outputs": [],
   "source": [
    "def word_tokenize(line):\n",
    "    line_tokens = []\n",
    "    tokens = parser(line)\n",
    "    for token in tokens:\n",
    "        token_str = str(token)\n",
    "        if token.orth_.isspace():\n",
    "            continue\n",
    "        elif str(token) not in stop_words:\n",
    "            line_tokens.append(lemmatizer.lemmatize(token.lower_))\n",
    "    return line_tokens"
   ]
  },
  {
   "cell_type": "code",
   "execution_count": 5,
   "metadata": {},
   "outputs": [],
   "source": [
    "df_non_argumentative = df.loc[df['is_non_argumentative'] == True]\n",
    "df_argumentative = df.loc[df['is_non_argumentative'] == False]\n",
    "\n",
    "df_against = df_argumentative.loc[df_argumentative['is_against'] == True]\n",
    "df_support = df_argumentative.loc[df_argumentative['is_against'] == False]\n",
    "\n",
    "df_claim = df_argumentative.loc[df_argumentative['argu_part'] == 1]\n",
    "df_warrant = df_argumentative.loc[df_argumentative['argu_part'] == 2]\n",
    "df_ground = df_argumentative.loc[df_argumentative['argu_part'] == 3]"
   ]
  },
  {
   "cell_type": "code",
   "execution_count": 6,
   "metadata": {},
   "outputs": [],
   "source": [
    "non_argumentative_str = df_non_argumentative[\"Text Content\"].str.cat(sep=' ')\n",
    "argumentative_str = df_argumentative[\"Text Content\"].str.cat(sep=' ') \n",
    "against_str = df_against[\"Text Content\"].str.cat(sep=' ') \n",
    "support_str = df_support[\"Text Content\"].str.cat(sep=' ') \n",
    "claim_str = df_claim[\"Text Content\"].str.cat(sep=' ') \n",
    "warrant_str = df_warrant[\"Text Content\"].str.cat(sep=' ') \n",
    "ground_str = df_ground[\"Text Content\"].str.cat(sep=' ') "
   ]
  },
  {
   "cell_type": "code",
   "execution_count": 7,
   "metadata": {},
   "outputs": [
    {
     "data": {
      "text/plain": [
       "175213"
      ]
     },
     "metadata": {},
     "output_type": "display_data"
    },
    {
     "data": {
      "text/plain": [
       "289775"
      ]
     },
     "metadata": {},
     "output_type": "display_data"
    },
    {
     "data": {
      "text/plain": [
       "72877"
      ]
     },
     "metadata": {},
     "output_type": "display_data"
    },
    {
     "data": {
      "text/plain": [
       "216897"
      ]
     },
     "metadata": {},
     "output_type": "display_data"
    },
    {
     "data": {
      "text/plain": [
       "57443"
      ]
     },
     "metadata": {},
     "output_type": "display_data"
    },
    {
     "data": {
      "text/plain": [
       "182322"
      ]
     },
     "metadata": {},
     "output_type": "display_data"
    },
    {
     "data": {
      "text/plain": [
       "50008"
      ]
     },
     "metadata": {},
     "output_type": "display_data"
    }
   ],
   "source": [
    "display(len(non_argumentative_str))\n",
    "display(len(argumentative_str))\n",
    "display(len(against_str))\n",
    "display(len(support_str))\n",
    "display(len(claim_str))\n",
    "display(len(warrant_str))\n",
    "display(len(ground_str))"
   ]
  },
  {
   "cell_type": "code",
   "execution_count": 8,
   "metadata": {},
   "outputs": [],
   "source": [
    "from sklearn.feature_extraction.text import TfidfVectorizer\n",
    "tfidfer = TfidfVectorizer(tokenizer=word_tokenize, ngram_range=(1, 2), analyzer='word', norm='l2')\n",
    "tfidf_result = tfidfer.fit_transform([non_argumentative_str, argumentative_str, against_str, support_str, claim_str, warrant_str, ground_str ])"
   ]
  },
  {
   "cell_type": "code",
   "execution_count": 9,
   "metadata": {},
   "outputs": [],
   "source": [
    "non_argumentative_tfidf = tfidf_result.toarray()[0]\n",
    "argumentative_tfidf = tfidf_result.toarray()[1]\n",
    "against_tfidf = tfidf_result.toarray()[2]\n",
    "support_tfidf = tfidf_result.toarray()[3]\n",
    "claim_tfidf = tfidf_result.toarray()[4]\n",
    "warrant_tfidf = tfidf_result.toarray()[5]\n",
    "ground_tfidf = tfidf_result.toarray()[6]"
   ]
  },
  {
   "cell_type": "code",
   "execution_count": 10,
   "metadata": {},
   "outputs": [],
   "source": [
    "nlarge_idx_non_argumentative = non_argumentative_tfidf.argsort()[-20:][::-1]\n",
    "nlarge_idx_argumentative = argumentative_tfidf.argsort()[-20:][::-1]\n",
    "nlarge_idx_against = against_tfidf.argsort()[-20:][::-1]\n",
    "nlarge_idx_support = support_tfidf.argsort()[-20:][::-1]\n",
    "nlarge_idx_claim = claim_tfidf.argsort()[-20:][::-1]\n",
    "nlarge_idx_warrant = warrant_tfidf.argsort()[-20:][::-1]\n",
    "nlarge_idx_ground = ground_tfidf.argsort()[-20:][::-1]"
   ]
  },
  {
   "cell_type": "code",
   "execution_count": 11,
   "metadata": {},
   "outputs": [],
   "source": [
    "feature_names = tfidfer.get_feature_names()"
   ]
  },
  {
   "cell_type": "code",
   "execution_count": 12,
   "metadata": {},
   "outputs": [
    {
     "data": {
      "text/plain": [
       "38448"
      ]
     },
     "execution_count": 12,
     "metadata": {},
     "output_type": "execute_result"
    }
   ],
   "source": [
    "len(feature_names)"
   ]
  },
  {
   "cell_type": "markdown",
   "metadata": {},
   "source": [
    "# 1. non-argumentative"
   ]
  },
  {
   "cell_type": "code",
   "execution_count": 13,
   "metadata": {},
   "outputs": [
    {
     "name": "stdout",
     "output_type": "stream",
     "text": [
      "screen_name: 0.346717800899\n",
      "tab: 0.226493671795\n",
      "plus_one: 0.200766437866\n",
      "file: 0.174969045036\n",
      "would: 0.159941028898\n",
      "issue: 0.152427020829\n",
      "feature: 0.15028016138\n",
      "thanks: 0.149904831072\n",
      "plus_one plus_one: 0.148568119272\n",
      "code_segment: 0.140619293863\n",
      "folder: 0.135252145242\n",
      "editor: 0.130958426346\n",
      "work: 0.130958426346\n",
      "open: 0.128811566897\n",
      "like: 0.115930410208\n",
      "one: 0.107342972415\n",
      "comment: 0.0987555346214\n",
      "workspace: 0.0987555346214\n",
      "vscode: 0.0987555346214\n",
      "code: 0.0955352454489\n"
     ]
    }
   ],
   "source": [
    "for idx in nlarge_idx_non_argumentative:\n",
    "    print(feature_names[idx] + \": \" + str(non_argumentative_tfidf[idx]))"
   ]
  },
  {
   "cell_type": "markdown",
   "metadata": {},
   "source": [
    "# 2. Argumentative"
   ]
  },
  {
   "cell_type": "code",
   "execution_count": 14,
   "metadata": {},
   "outputs": [
    {
     "name": "stdout",
     "output_type": "stream",
     "text": [
      "file: 0.394989105252\n",
      "tab: 0.351768412884\n",
      "folder: 0.24311639457\n",
      "would: 0.20409771396\n",
      "project: 0.198695127414\n",
      "open: 0.184888517352\n",
      "editor: 0.163278171168\n",
      "like: 0.152472998076\n",
      "code: 0.148270986318\n",
      "one: 0.140467250196\n",
      "working: 0.129662077104\n",
      "use: 0.1200574788\n",
      "vscode: 0.11105316789\n",
      "want: 0.110452880496\n",
      "code_segment: 0.104450006556\n",
      "feature: 0.104450006556\n",
      "window: 0.101448569586\n",
      "workspace: 0.0966462704339\n",
      "work: 0.0948454082519\n",
      "setting: 0.091243683888\n"
     ]
    }
   ],
   "source": [
    "for idx in nlarge_idx_argumentative:\n",
    "    print(feature_names[idx] + \": \" + str(argumentative_tfidf[idx]))"
   ]
  },
  {
   "cell_type": "markdown",
   "metadata": {},
   "source": [
    "# 3. Claim"
   ]
  },
  {
   "cell_type": "code",
   "execution_count": 15,
   "metadata": {},
   "outputs": [
    {
     "name": "stdout",
     "output_type": "stream",
     "text": [
      "tab: 0.364088821694\n",
      "would: 0.319506516997\n",
      "file: 0.292261775237\n",
      "folder: 0.245202675835\n",
      "like: 0.193189987021\n",
      "project: 0.168422039967\n",
      "please: 0.15603806644\n",
      "open: 0.141177298208\n",
      "feature: 0.121362940565\n",
      "code_segment: 0.116409351154\n",
      "one: 0.116409351154\n",
      "screen_name: 0.111455761743\n",
      "root: 0.108978967038\n",
      "add: 0.106502172332\n",
      "setting: 0.106502172332\n",
      "workspace: 0.101548582921\n",
      "option: 0.099071788216\n",
      "make: 0.0916414040998\n",
      "window: 0.0916414040998\n",
      "think: 0.0891646093944\n"
     ]
    }
   ],
   "source": [
    "for idx in nlarge_idx_claim:\n",
    "    print(feature_names[idx] + \": \" + str(claim_tfidf[idx]))"
   ]
  },
  {
   "cell_type": "markdown",
   "metadata": {},
   "source": [
    "# 4. Warrant"
   ]
  },
  {
   "cell_type": "code",
   "execution_count": 16,
   "metadata": {},
   "outputs": [
    {
     "name": "stdout",
     "output_type": "stream",
     "text": [
      "file: 0.371186438869\n",
      "tab: 0.354536915225\n",
      "folder: 0.198814899974\n",
      "would: 0.18706229505\n",
      "project: 0.172371538894\n",
      "editor: 0.169433387663\n",
      "code: 0.167474620176\n",
      "like: 0.156701398995\n",
      "open: 0.149845712789\n",
      "one: 0.139072491608\n",
      "want: 0.138093107864\n",
      "use: 0.136134340377\n",
      "working: 0.134175572889\n",
      "vscode: 0.121443584221\n",
      "feature: 0.111649746784\n",
      "work: 0.10283529309\n",
      "think: 0.100876525603\n",
      "v: 0.0989177581154\n",
      "need: 0.0979383743717\n",
      "people: 0.0959796068842\n"
     ]
    }
   ],
   "source": [
    "for idx in nlarge_idx_warrant:\n",
    "    print(feature_names[idx] + \": \" + str(warrant_tfidf[idx]))"
   ]
  },
  {
   "cell_type": "markdown",
   "metadata": {},
   "source": [
    "# 5. Ground"
   ]
  },
  {
   "cell_type": "code",
   "execution_count": 17,
   "metadata": {},
   "outputs": [
    {
     "name": "stdout",
     "output_type": "stream",
     "text": [
      "file: 0.439988281291\n",
      "folder: 0.281483186167\n",
      "open: 0.267818953829\n",
      "project: 0.237757642685\n",
      "tab: 0.210429178009\n",
      "editor: 0.177635020397\n",
      "code: 0.163970788059\n",
      "sublime: 0.15030655572\n",
      "working: 0.133909476915\n",
      "one: 0.122978091044\n",
      "use: 0.114779551641\n",
      "atom: 0.112046705173\n",
      "window: 0.101115319303\n",
      "vscode: 0.0983824728352\n",
      "v: 0.0929167798999\n",
      "code_segment: 0.0901839334322\n",
      "work: 0.0874510869646\n",
      "multiple: 0.0847182404969\n",
      "git: 0.0819853940293\n",
      "time: 0.0792525475617\n"
     ]
    }
   ],
   "source": [
    "for idx in nlarge_idx_ground:\n",
    "    print(feature_names[idx] + \": \" + str(ground_tfidf[idx]))"
   ]
  },
  {
   "cell_type": "markdown",
   "metadata": {},
   "source": [
    "# 6. Support"
   ]
  },
  {
   "cell_type": "code",
   "execution_count": 18,
   "metadata": {},
   "outputs": [
    {
     "name": "stdout",
     "output_type": "stream",
     "text": [
      "file: 0.343190192665\n",
      "tab: 0.339190306969\n",
      "folder: 0.25199279881\n",
      "project: 0.224793576081\n",
      "would: 0.220793690386\n",
      "open: 0.175994970597\n",
      "like: 0.167195222067\n",
      "editor: 0.166395244928\n",
      "code: 0.156795519259\n",
      "one: 0.143195907895\n",
      "vscode: 0.127996342253\n",
      "use: 0.125596410835\n",
      "feature: 0.123996456557\n",
      "window: 0.115196708027\n",
      "want: 0.110396845193\n",
      "working: 0.108796890915\n",
      "work: 0.0999971423848\n",
      "v: 0.0951972795503\n",
      "need: 0.0935973252722\n",
      "multiple: 0.091997370994\n"
     ]
    }
   ],
   "source": [
    "for idx in nlarge_idx_support:\n",
    "    print(feature_names[idx] + \": \" + str(support_tfidf[idx]))\n",
    "    "
   ]
  },
  {
   "cell_type": "markdown",
   "metadata": {},
   "source": [
    "# 7. Against"
   ]
  },
  {
   "cell_type": "code",
   "execution_count": 19,
   "metadata": {},
   "outputs": [
    {
     "name": "stdout",
     "output_type": "stream",
     "text": [
      "file: 0.488761317859\n",
      "tab: 0.345761281629\n",
      "folder: 0.192089600905\n",
      "open: 0.187820943107\n",
      "working: 0.170746311916\n",
      "code_segment: 0.149403022926\n",
      "would: 0.136597049533\n",
      "editor: 0.136597049533\n",
      "workspace: 0.132328391735\n",
      "working file: 0.125925405038\n",
      "setting: 0.123791076139\n",
      "one: 0.117388089442\n",
      "code: 0.108850773846\n",
      "project: 0.106716444947\n",
      "want: 0.0981791293515\n",
      "like: 0.0960448004525\n",
      "use: 0.0917761426547\n",
      "make: 0.0853731559578\n",
      "user: 0.0853731559578\n",
      "thing: 0.0811044981599\n"
     ]
    }
   ],
   "source": [
    "for idx in nlarge_idx_against:\n",
    "    print(feature_names[idx] + \": \" + str(against_tfidf[idx]))"
   ]
  },
  {
   "cell_type": "code",
   "execution_count": null,
   "metadata": {},
   "outputs": [],
   "source": []
  }
 ],
 "metadata": {
  "kernelspec": {
   "display_name": "Python 3",
   "language": "python",
   "name": "python3"
  },
  "language_info": {
   "codemirror_mode": {
    "name": "ipython",
    "version": 3
   },
   "file_extension": ".py",
   "mimetype": "text/x-python",
   "name": "python",
   "nbconvert_exporter": "python",
   "pygments_lexer": "ipython3",
   "version": "3.6.4"
  }
 },
 "nbformat": 4,
 "nbformat_minor": 2
}
